{
 "metadata": {
  "name": "",
  "signature": "sha256:e72a0df5dd9d36224300714f3e06d60c3b3bf203bc29940ad44116a0aec6daf7"
 },
 "nbformat": 3,
 "nbformat_minor": 0,
 "worksheets": [
  {
   "cells": [
    {
     "cell_type": "heading",
     "level": 1,
     "metadata": {},
     "source": [
      "SQL Magic Commands with SQLite in a Notebook"
     ]
    },
    {
     "cell_type": "markdown",
     "metadata": {},
     "source": [
      "This notebook introduced some of the magic commands used to easily query a SQLite database with [sqlite3](https://docs.python.org/3.4/library/sqlite3.html). SQLite databases can be easily manipulated with open source tools such as [SQLite Manager](https://addons.mozilla.org/fr/firefox/addon/sqlite-manager/) (add-on for [firefox](https://www.mozilla.org/)) or [SQLiteSpy](http://www.yunqa.de/delphi/doku.php/products/sqlitespy/index) (only on Windows). However, it is very convenient to put the results of a SQL query into a [DataFrame](http://pandas.pydata.org/pandas-docs/dev/generated/pandas.DataFrame.html). That what's this notebook is about.\n",
      "\n",
      "Let's start by importing some data."
     ]
    },
    {
     "cell_type": "code",
     "collapsed": false,
     "input": [
      "import pyensae\n",
      "pyensae.download_data(\"velib_vanves.zip\", website = \"xd\")"
     ],
     "language": "python",
     "metadata": {},
     "outputs": [
      {
       "metadata": {},
       "output_type": "pyout",
       "prompt_number": 1,
       "text": [
        "['velib_vanves.txt']"
       ]
      }
     ],
     "prompt_number": 1
    },
    {
     "cell_type": "markdown",
     "metadata": {},
     "source": [
      "You will need [pyensae](http://www.xavierdupre.fr/app/pyensae/helpsphinx/) (version >= ``1.0``) or higher)."
     ]
    },
    {
     "cell_type": "code",
     "collapsed": false,
     "input": [
      "if pyensae.__version__ < \"1.0\" : print(\"it will not work\", pyensae.__version__)"
     ],
     "language": "python",
     "metadata": {},
     "outputs": [],
     "prompt_number": 2
    },
    {
     "cell_type": "markdown",
     "metadata": {},
     "source": [
      "We connect to the database:"
     ]
    },
    {
     "cell_type": "code",
     "collapsed": false,
     "input": [
      "%SQL_connect notebook_example.db3"
     ],
     "language": "python",
     "metadata": {},
     "outputs": [
      {
       "metadata": {},
       "output_type": "pyout",
       "prompt_number": 3,
       "text": [
        "<pyensae.sql.sql_interface_database.InterfaceSQLDatabase at 0x706c730>"
       ]
      }
     ],
     "prompt_number": 3
    },
    {
     "cell_type": "markdown",
     "metadata": {},
     "source": [
      "The database is empty so the table list should be empty:"
     ]
    },
    {
     "cell_type": "code",
     "collapsed": false,
     "input": [
      "%SQL_tables"
     ],
     "language": "python",
     "metadata": {},
     "outputs": [
      {
       "metadata": {},
       "output_type": "pyout",
       "prompt_number": 12,
       "text": [
        "[]"
       ]
      }
     ],
     "prompt_number": 12
    },
    {
     "cell_type": "markdown",
     "metadata": {},
     "source": [
      "So we import a flat file (TSV format only) into the database."
     ]
    },
    {
     "cell_type": "code",
     "collapsed": false,
     "input": [
      "%SQL_import_tsv velib velib_vanves.txt"
     ],
     "language": "python",
     "metadata": {},
     "outputs": [],
     "prompt_number": 13
    },
    {
     "cell_type": "markdown",
     "metadata": {},
     "source": [
      "We check there is one more table:"
     ]
    },
    {
     "cell_type": "code",
     "collapsed": false,
     "input": [
      "%SQL_tables"
     ],
     "language": "python",
     "metadata": {},
     "outputs": [
      {
       "metadata": {},
       "output_type": "pyout",
       "prompt_number": 14,
       "text": [
        "['velib']"
       ]
      }
     ],
     "prompt_number": 14
    },
    {
     "cell_type": "markdown",
     "metadata": {},
     "source": [
      "We get the schema of the database:"
     ]
    },
    {
     "cell_type": "code",
     "collapsed": false,
     "input": [
      "%SQL_schema velib"
     ],
     "language": "python",
     "metadata": {},
     "outputs": [
      {
       "metadata": {},
       "output_type": "pyout",
       "prompt_number": 15,
       "text": [
        "{0: ('address', str),\n",
        " 1: ('available_bike_stands', int),\n",
        " 2: ('available_bikes', int),\n",
        " 3: ('banking', int),\n",
        " 4: ('bike_stands', int),\n",
        " 5: ('bonus', int),\n",
        " 6: ('contract_name', str),\n",
        " 7: ('last_update', str),\n",
        " 8: ('lat', str),\n",
        " 9: ('lng', str),\n",
        " 10: ('name', str),\n",
        " 11: ('number', int),\n",
        " 12: ('status', str),\n",
        " 13: ('idr', int)}"
       ]
      }
     ],
     "prompt_number": 15
    },
    {
     "cell_type": "markdown",
     "metadata": {},
     "source": [
      "And we execute the first query:"
     ]
    },
    {
     "cell_type": "code",
     "collapsed": false,
     "input": [
      "%SQL SELECT MAX(available_bike_stands +available_bikes) FROM velib"
     ],
     "language": "python",
     "metadata": {},
     "outputs": [
      {
       "html": [
        "<div style=\"max-height:1000px;max-width:1500px;overflow:auto;\">\n",
        "<table border=\"1\" class=\"dataframe\">\n",
        "  <thead>\n",
        "    <tr style=\"text-align: right;\">\n",
        "      <th></th>\n",
        "      <th>MAX(available_bike_stands +available_bikes)</th>\n",
        "    </tr>\n",
        "  </thead>\n",
        "  <tbody>\n",
        "    <tr>\n",
        "      <th>0</th>\n",
        "      <td> 71</td>\n",
        "    </tr>\n",
        "  </tbody>\n",
        "</table>\n",
        "</div>"
       ],
       "metadata": {},
       "output_type": "pyout",
       "prompt_number": 26,
       "text": [
        "   MAX(available_bike_stands +available_bikes)\n",
        "0                                           71"
       ]
      }
     ],
     "prompt_number": 26
    },
    {
     "cell_type": "markdown",
     "metadata": {},
     "source": [
      "It also works in a cell:"
     ]
    },
    {
     "cell_type": "code",
     "collapsed": false,
     "input": [
      "%%SQL \n",
      "SELECT COUNT(*) FROM velib"
     ],
     "language": "python",
     "metadata": {},
     "outputs": [
      {
       "html": [
        "<div style=\"max-height:1000px;max-width:1500px;overflow:auto;\">\n",
        "<table border=\"1\" class=\"dataframe\">\n",
        "  <thead>\n",
        "    <tr style=\"text-align: right;\">\n",
        "      <th></th>\n",
        "      <th>COUNT(*)</th>\n",
        "    </tr>\n",
        "  </thead>\n",
        "  <tbody>\n",
        "    <tr>\n",
        "      <th>0</th>\n",
        "      <td> 9461</td>\n",
        "    </tr>\n",
        "  </tbody>\n",
        "</table>\n",
        "</div>"
       ],
       "metadata": {},
       "output_type": "pyout",
       "prompt_number": 17,
       "text": [
        "   COUNT(*)\n",
        "0      9461"
       ]
      }
     ],
     "prompt_number": 17
    },
    {
     "cell_type": "markdown",
     "metadata": {},
     "source": [
      "We want to draw a random sample out of this table. We ask the database to recognize the following python function (its name cannot contain ``'_'``):"
     ]
    },
    {
     "cell_type": "code",
     "collapsed": false,
     "input": [
      "import random\n",
      "def arandomfunction():\n",
      "    return random.randint(1,100)\n",
      "%SQL_add_function arandomfunction"
     ],
     "language": "python",
     "metadata": {},
     "outputs": [],
     "prompt_number": 4
    },
    {
     "cell_type": "markdown",
     "metadata": {},
     "source": [
      "We then execute the following query. Because the first line contains a identifier, the query will only display the shape of the results dataframe and not its content which will be stored in ``df``:"
     ]
    },
    {
     "cell_type": "code",
     "collapsed": false,
     "input": [
      "%%SQL df\n",
      "SELECT * FROM (\n",
      "    SELECT *,arandomfunction() AS rnd FROM velib)\n",
      "    WHERE rnd==1"
     ],
     "language": "python",
     "metadata": {},
     "outputs": [
      {
       "metadata": {},
       "output_type": "pyout",
       "prompt_number": 5,
       "text": [
        "(106, 15)"
       ]
      }
     ],
     "prompt_number": 5
    },
    {
     "cell_type": "markdown",
     "metadata": {},
     "source": [
      "We look at the head:"
     ]
    },
    {
     "cell_type": "code",
     "collapsed": false,
     "input": [
      "df.head()"
     ],
     "language": "python",
     "metadata": {},
     "outputs": [
      {
       "html": [
        "<div style=\"max-height:1000px;max-width:1500px;overflow:auto;\">\n",
        "<table border=\"1\" class=\"dataframe\">\n",
        "  <thead>\n",
        "    <tr style=\"text-align: right;\">\n",
        "      <th></th>\n",
        "      <th>address</th>\n",
        "      <th>available_bike_stands</th>\n",
        "      <th>available_bikes</th>\n",
        "      <th>banking</th>\n",
        "      <th>bike_stands</th>\n",
        "      <th>bonus</th>\n",
        "      <th>contract_name</th>\n",
        "      <th>last_update</th>\n",
        "      <th>lat</th>\n",
        "      <th>lng</th>\n",
        "      <th>name</th>\n",
        "      <th>number</th>\n",
        "      <th>status</th>\n",
        "      <th>idr</th>\n",
        "      <th>rnd</th>\n",
        "    </tr>\n",
        "  </thead>\n",
        "  <tbody>\n",
        "    <tr>\n",
        "      <th>0</th>\n",
        "      <td> 112 RUE VERCINGETORIX - 75014 PARIS</td>\n",
        "      <td> 62</td>\n",
        "      <td>  5</td>\n",
        "      <td> 0</td>\n",
        "      <td> 67</td>\n",
        "      <td> 0</td>\n",
        "      <td> Paris</td>\n",
        "      <td> 15/07/2013 17:50</td>\n",
        "      <td> 48,83425925</td>\n",
        "      <td> 2,313391647</td>\n",
        "      <td> 14029 - GERGOVIE VERCINGETORIX</td>\n",
        "      <td> 14029</td>\n",
        "      <td> OPEN</td>\n",
        "      <td>  42455</td>\n",
        "      <td> 90</td>\n",
        "    </tr>\n",
        "    <tr>\n",
        "      <th>1</th>\n",
        "      <td> 112 RUE VERCINGETORIX - 75014 PARIS</td>\n",
        "      <td> 49</td>\n",
        "      <td> 18</td>\n",
        "      <td> 0</td>\n",
        "      <td> 67</td>\n",
        "      <td> 0</td>\n",
        "      <td> Paris</td>\n",
        "      <td> 16/07/2013 01:45</td>\n",
        "      <td> 48,83425925</td>\n",
        "      <td> 2,313391647</td>\n",
        "      <td> 14029 - GERGOVIE VERCINGETORIX</td>\n",
        "      <td> 14029</td>\n",
        "      <td> OPEN</td>\n",
        "      <td> 159210</td>\n",
        "      <td> 58</td>\n",
        "    </tr>\n",
        "    <tr>\n",
        "      <th>2</th>\n",
        "      <td> 112 RUE VERCINGETORIX - 75014 PARIS</td>\n",
        "      <td> 60</td>\n",
        "      <td>  7</td>\n",
        "      <td> 0</td>\n",
        "      <td> 67</td>\n",
        "      <td> 0</td>\n",
        "      <td> Paris</td>\n",
        "      <td> 16/07/2013 09:40</td>\n",
        "      <td> 48,83425925</td>\n",
        "      <td> 2,313391647</td>\n",
        "      <td> 14029 - GERGOVIE VERCINGETORIX</td>\n",
        "      <td> 14029</td>\n",
        "      <td> OPEN</td>\n",
        "      <td> 275965</td>\n",
        "      <td> 21</td>\n",
        "    </tr>\n",
        "    <tr>\n",
        "      <th>3</th>\n",
        "      <td> 112 RUE VERCINGETORIX - 75014 PARIS</td>\n",
        "      <td> 61</td>\n",
        "      <td>  6</td>\n",
        "      <td> 0</td>\n",
        "      <td> 67</td>\n",
        "      <td> 0</td>\n",
        "      <td> Paris</td>\n",
        "      <td> 16/07/2013 20:45</td>\n",
        "      <td> 48,83425925</td>\n",
        "      <td> 2,313391647</td>\n",
        "      <td> 14029 - GERGOVIE VERCINGETORIX</td>\n",
        "      <td> 14029</td>\n",
        "      <td> OPEN</td>\n",
        "      <td> 439422</td>\n",
        "      <td> 90</td>\n",
        "    </tr>\n",
        "    <tr>\n",
        "      <th>4</th>\n",
        "      <td> 112 RUE VERCINGETORIX - 75014 PARIS</td>\n",
        "      <td> 61</td>\n",
        "      <td>  6</td>\n",
        "      <td> 0</td>\n",
        "      <td> 67</td>\n",
        "      <td> 0</td>\n",
        "      <td> Paris</td>\n",
        "      <td> 16/07/2013 21:40</td>\n",
        "      <td> 48,83425925</td>\n",
        "      <td> 2,313391647</td>\n",
        "      <td> 14029 - GERGOVIE VERCINGETORIX</td>\n",
        "      <td> 14029</td>\n",
        "      <td> OPEN</td>\n",
        "      <td> 452941</td>\n",
        "      <td> 42</td>\n",
        "    </tr>\n",
        "  </tbody>\n",
        "</table>\n",
        "</div>"
       ],
       "metadata": {},
       "output_type": "pyout",
       "prompt_number": 6,
       "text": [
        "                               address  available_bike_stands  \\\n",
        "0  112 RUE VERCINGETORIX - 75014 PARIS                     62   \n",
        "1  112 RUE VERCINGETORIX - 75014 PARIS                     49   \n",
        "2  112 RUE VERCINGETORIX - 75014 PARIS                     60   \n",
        "3  112 RUE VERCINGETORIX - 75014 PARIS                     61   \n",
        "4  112 RUE VERCINGETORIX - 75014 PARIS                     61   \n",
        "\n",
        "   available_bikes  banking  bike_stands  bonus contract_name  \\\n",
        "0                5        0           67      0         Paris   \n",
        "1               18        0           67      0         Paris   \n",
        "2                7        0           67      0         Paris   \n",
        "3                6        0           67      0         Paris   \n",
        "4                6        0           67      0         Paris   \n",
        "\n",
        "        last_update          lat          lng                            name  \\\n",
        "0  15/07/2013 17:50  48,83425925  2,313391647  14029 - GERGOVIE VERCINGETORIX   \n",
        "1  16/07/2013 01:45  48,83425925  2,313391647  14029 - GERGOVIE VERCINGETORIX   \n",
        "2  16/07/2013 09:40  48,83425925  2,313391647  14029 - GERGOVIE VERCINGETORIX   \n",
        "3  16/07/2013 20:45  48,83425925  2,313391647  14029 - GERGOVIE VERCINGETORIX   \n",
        "4  16/07/2013 21:40  48,83425925  2,313391647  14029 - GERGOVIE VERCINGETORIX   \n",
        "\n",
        "   number status     idr  rnd  \n",
        "0   14029   OPEN   42455   90  \n",
        "1   14029   OPEN  159210   58  \n",
        "2   14029   OPEN  275965   21  \n",
        "3   14029   OPEN  439422   90  \n",
        "4   14029   OPEN  452941   42  "
       ]
      }
     ],
     "prompt_number": 6
    },
    {
     "cell_type": "markdown",
     "metadata": {},
     "source": [
      "We add this new dataframe to the database:"
     ]
    },
    {
     "cell_type": "code",
     "collapsed": false,
     "input": [
      "%SQL_import_df sample df"
     ],
     "language": "python",
     "metadata": {},
     "outputs": [],
     "prompt_number": 6
    },
    {
     "cell_type": "markdown",
     "metadata": {},
     "source": [
      "We check it is part the list of tables:"
     ]
    },
    {
     "cell_type": "code",
     "collapsed": false,
     "input": [
      "%SQL_tables"
     ],
     "language": "python",
     "metadata": {},
     "outputs": [
      {
       "metadata": {},
       "output_type": "pyout",
       "prompt_number": 7,
       "text": [
        "['sample', 'velib']"
       ]
      }
     ],
     "prompt_number": 7
    },
    {
     "cell_type": "markdown",
     "metadata": {},
     "source": [
      "We do some more queries:"
     ]
    },
    {
     "cell_type": "code",
     "collapsed": false,
     "input": [
      "%%SQL\n",
      "\n",
      "SELECT insample, COUNT(*) AS nb FROM (\n",
      "    SELECT velib.*, sample.idr AS insample \n",
      "    FROM velib OUTER JOIN sample\n",
      "    ON velib.idr == sample.idr\n",
      ")"
     ],
     "language": "python",
     "metadata": {},
     "outputs": [
      {
       "output_type": "stream",
       "stream": "stdout",
       "text": [
        "unable to execute a SQL request (1)(file notebook_example.db3)\n",
        "\n",
        "SELECT insample, COUNT(*) AS nb FROM (\n",
        "    SELECT velib.*, sample.idr AS insample \n",
        "    FROM velib OUTER JOIN sample\n",
        "    ON velib.idr == sample.idr\n",
        ")\n",
        "RIGHT and FULL OUTER JOINs are not currently supported\n",
        "'\n",
        "SELECT insample, COUNT(*) AS nb FROM (\n",
        "    SELECT velib.*, sample.idr AS insample \n",
        "    FROM velib OUTER JOIN sample\n",
        "    ON velib.idr == sample.idr\n",
        ")'\n"
       ]
      }
     ],
     "prompt_number": 24
    },
    {
     "cell_type": "markdown",
     "metadata": {},
     "source": [
      "We fix it:"
     ]
    },
    {
     "cell_type": "code",
     "collapsed": false,
     "input": [
      "%%SQL\n",
      "\n",
      "SELECT insample, COUNT(*) AS nb FROM (\n",
      "    SELECT velib.idr, sample.idr is not null insample\n",
      "    FROM velib LEFT OUTER JOIN sample\n",
      "    ON velib.idr == sample.idr\n",
      ") GROUP BY insample"
     ],
     "language": "python",
     "metadata": {},
     "outputs": [
      {
       "html": [
        "<div style=\"max-height:1000px;max-width:1500px;overflow:auto;\">\n",
        "<table border=\"1\" class=\"dataframe\">\n",
        "  <thead>\n",
        "    <tr style=\"text-align: right;\">\n",
        "      <th></th>\n",
        "      <th>insample</th>\n",
        "      <th>nb</th>\n",
        "    </tr>\n",
        "  </thead>\n",
        "  <tbody>\n",
        "    <tr>\n",
        "      <th>0</th>\n",
        "      <td> 0</td>\n",
        "      <td> 9363</td>\n",
        "    </tr>\n",
        "    <tr>\n",
        "      <th>1</th>\n",
        "      <td> 1</td>\n",
        "      <td>   98</td>\n",
        "    </tr>\n",
        "  </tbody>\n",
        "</table>\n",
        "</div>"
       ],
       "metadata": {},
       "output_type": "pyout",
       "prompt_number": 27,
       "text": [
        "   insample    nb\n",
        "0         0  9363\n",
        "1         1    98"
       ]
      }
     ],
     "prompt_number": 27
    },
    {
     "cell_type": "code",
     "collapsed": false,
     "input": [
      "dfs.head()"
     ],
     "language": "python",
     "metadata": {},
     "outputs": [
      {
       "html": [
        "<div style=\"max-height:1000px;max-width:1500px;overflow:auto;\">\n",
        "<table border=\"1\" class=\"dataframe\">\n",
        "  <thead>\n",
        "    <tr style=\"text-align: right;\">\n",
        "      <th></th>\n",
        "      <th>idr</th>\n",
        "      <th>insample</th>\n",
        "    </tr>\n",
        "  </thead>\n",
        "  <tbody>\n",
        "    <tr>\n",
        "      <th>0</th>\n",
        "      <td> 252614</td>\n",
        "      <td> 1</td>\n",
        "    </tr>\n",
        "    <tr>\n",
        "      <th>1</th>\n",
        "      <td> 402552</td>\n",
        "      <td> 1</td>\n",
        "    </tr>\n",
        "    <tr>\n",
        "      <th>2</th>\n",
        "      <td> 411155</td>\n",
        "      <td> 1</td>\n",
        "    </tr>\n",
        "    <tr>\n",
        "      <th>3</th>\n",
        "      <td> 436964</td>\n",
        "      <td> 1</td>\n",
        "    </tr>\n",
        "    <tr>\n",
        "      <th>4</th>\n",
        "      <td> 613940</td>\n",
        "      <td> 1</td>\n",
        "    </tr>\n",
        "  </tbody>\n",
        "</table>\n",
        "</div>"
       ],
       "metadata": {},
       "output_type": "pyout",
       "prompt_number": 22,
       "text": [
        "      idr  insample\n",
        "0  252614         1\n",
        "1  402552         1\n",
        "2  411155         1\n",
        "3  436964         1\n",
        "4  613940         1"
       ]
      }
     ],
     "prompt_number": 22
    },
    {
     "cell_type": "markdown",
     "metadata": {},
     "source": [
      "Autocompletion also works when the prefix is ``DB.CC.``:"
     ]
    },
    {
     "cell_type": "code",
     "collapsed": false,
     "input": [
      "%%SQL df\n",
      "SELECT DB.CC.velib.available_bike_stands, COUNT(*) \n",
      "FROM DB.CC.velib \n",
      "GROUP BY DB.CC.velib.available_bike_stands"
     ],
     "language": "python",
     "metadata": {},
     "outputs": [
      {
       "metadata": {},
       "output_type": "pyout",
       "prompt_number": 35,
       "text": [
        "(64, 2)"
       ]
      }
     ],
     "prompt_number": 35
    },
    {
     "cell_type": "code",
     "collapsed": false,
     "input": [
      "df.plot(x=\"available_bike_stands\", y=\"COUNT(*)\", kind=\"bar\", figsize=(16,4))"
     ],
     "language": "python",
     "metadata": {},
     "outputs": [
      {
       "metadata": {},
       "output_type": "pyout",
       "prompt_number": 41,
       "text": [
        "<matplotlib.axes.AxesSubplot at 0xb416b30>"
       ]
      },
      {
       "metadata": {},
       "output_type": "display_data",
       "png": "[encoded data removed]",
       "text": [
        "<matplotlib.figure.Figure at 0xb41bdd0>"
       ]
      }
     ],
     "prompt_number": 41
    },
    {
     "cell_type": "markdown",
     "metadata": {},
     "source": [
      "The autocompletion looks like:"
     ]
    },
    {
     "cell_type": "code",
     "collapsed": false,
     "input": [
      "from IPython.core.display import Image\n",
      "Image(\"dbcc.png\")"
     ],
     "language": "python",
     "metadata": {},
     "outputs": [
      {
       "metadata": {},
       "output_type": "pyout",
       "png": "[encoded data removed]",
       "prompt_number": 43,
       "text": [
        "<IPython.core.display.Image at 0xb4baad0>"
       ]
      }
     ],
     "prompt_number": 43
    },
    {
     "cell_type": "markdown",
     "metadata": {},
     "source": [
      "And we finally close the connection:"
     ]
    },
    {
     "cell_type": "code",
     "collapsed": false,
     "input": [
      "%SQL_close"
     ],
     "language": "python",
     "metadata": {},
     "outputs": [],
     "prompt_number": 8
    },
    {
     "cell_type": "code",
     "collapsed": false,
     "input": [],
     "language": "python",
     "metadata": {},
     "outputs": []
    }
   ],
   "metadata": {}
  }
 ]
}