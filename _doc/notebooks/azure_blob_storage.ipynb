{
 "cells": [
  {
   "cell_type": "markdown",
   "metadata": {},
   "source": [
    "# File Manipulation with Azure Blob Storage"
   ]
  },
  {
   "cell_type": "markdown",
   "metadata": {},
   "source": [
    "We try a few file manipulation between a local computer and a blob storage on Azure. It requires [azure-sdk-for-python](https://github.com/Azure/azure-sdk-for-python) and [pyensae](http://www.xavierdupre.fr/app/pyensae/helpsphinx/index.html). We first create a dummy file."
   ]
  },
  {
   "cell_type": "code",
   "execution_count": 4,
   "metadata": {
    "collapsed": false
   },
   "outputs": [],
   "source": [
    "import pandas, random\n",
    "mat = [ {\"x\":random.random(), \"y\":random.random()} for i in range(0,1000)]\n",
    "df = pandas.DataFrame(mat)\n",
    "df.to_csv(\"randomxy.txt\", sep=\"\\t\", encoding=\"utf8\")"
   ]
  },
  {
   "cell_type": "markdown",
   "metadata": {},
   "source": [
    "We need credentials and to avoid having them in clear in the notebook, we use a HTML form:"
   ]
  },
  {
   "cell_type": "code",
   "execution_count": 2,
   "metadata": {
    "collapsed": false
   },
   "outputs": [
    {
     "data": {
      "text/html": [
       "<div style=\"background-color:gainsboro; padding:2px; border:0px;\"><b>credentials</b>\n",
       "<br />blob_storage <input type=\"text\" id=\"blobserviceblob_storage\" value=\"\" size=\"80\" />\n",
       "<br />password <input type=\"password\" id=\"blobservicepassword\" value=\"\" size=\"80\" />\n",
       "<br /><button onclick=\"set_valueblobservice()\">Ok</button></div>\n",
       "<script type=\"text/Javascript\">\n",
       "function set_valueblobservice(){\n",
       "   command='blobservice = {' ;\n",
       "   var blobserviceblob_storagevar_value = document.getElementById('blobserviceblob_storage').value;\n",
       "   command += '\"blob_storage\":\"' + blobserviceblob_storagevar_value + '\",';\n",
       "   var blobservicepasswordvar_value = document.getElementById('blobservicepassword').value;\n",
       "   command += '\"password\":\"' + blobservicepasswordvar_value + '\",';\n",
       "   command += '}';\n",
       "   var kernel = IPython.notebook.kernel;\n",
       "   kernel.execute(command);\n",
       "}\n",
       "</script>"
      ],
      "text/plain": [
       "<IPython.core.display.HTML at 0x797f190>"
      ]
     },
     "execution_count": 2,
     "metadata": {},
     "output_type": "execute_result"
    }
   ],
   "source": [
    "import pyquickhelper\n",
    "params={\"blob_storage\":\"\", \"password\":\"\"}\n",
    "pyquickhelper.open_html_form(params=params,title=\"credentials\",key_save=\"blobservice\")"
   ]
  },
  {
   "cell_type": "markdown",
   "metadata": {},
   "source": [
    "We stored the values in two variables in the workspace:"
   ]
  },
  {
   "cell_type": "code",
   "execution_count": 1,
   "metadata": {
    "collapsed": false
   },
   "outputs": [],
   "source": [
    "blobstorage = blobservice[\"blob_storage\"]\n",
    "blobpassword = blobservice[\"password\"]"
   ]
  },
  {
   "cell_type": "markdown",
   "metadata": {},
   "source": [
    "We need pyensae >= 1.1:"
   ]
  },
  {
   "cell_type": "code",
   "execution_count": 1,
   "metadata": {
    "collapsed": false
   },
   "outputs": [
    {
     "data": {
      "text/plain": [
       "'1.1'"
      ]
     },
     "execution_count": 1,
     "metadata": {},
     "output_type": "execute_result"
    }
   ],
   "source": [
    "import pyensae\n",
    "pyensae.__version__"
   ]
  },
  {
   "cell_type": "markdown",
   "metadata": {},
   "source": [
    "We open a connection to the blob storage:"
   ]
  },
  {
   "cell_type": "code",
   "execution_count": 3,
   "metadata": {
    "collapsed": false
   },
   "outputs": [
    {
     "data": {
      "text/plain": [
       "(<pyensae.remote.azure_connection.AzureClient at 0x9f6d250>,\n",
       " <azure.storage.blobservice.BlobService at 0x9f6d270>)"
      ]
     },
     "execution_count": 3,
     "metadata": {},
     "output_type": "execute_result"
    }
   ],
   "source": [
    "cl, bs = %open_blob\n",
    "cl, bs"
   ]
  },
  {
   "cell_type": "markdown",
   "metadata": {},
   "source": [
    "We extract the available containers:"
   ]
  },
  {
   "cell_type": "code",
   "execution_count": 4,
   "metadata": {
    "collapsed": false
   },
   "outputs": [
    {
     "data": {
      "text/plain": [
       "['clusterensaeazure1', 'hdblobstorage', 'testhadoopensae']"
      ]
     },
     "execution_count": 4,
     "metadata": {},
     "output_type": "execute_result"
    }
   ],
   "source": [
    "l = %blob_containers\n",
    "l"
   ]
  },
  {
   "cell_type": "markdown",
   "metadata": {},
   "source": [
    "We get the content of one container:"
   ]
  },
  {
   "cell_type": "code",
   "execution_count": 4,
   "metadata": {
    "collapsed": false
   },
   "outputs": [
    {
     "data": {
      "text/html": [
       "<div style=\"max-height:1000px;max-width:1500px;overflow:auto;\">\n",
       "<table border=\"1\" class=\"dataframe\">\n",
       "  <thead>\n",
       "    <tr style=\"text-align: right;\">\n",
       "      <th></th>\n",
       "      <th>name</th>\n",
       "      <th>last_modified</th>\n",
       "      <th>content_type</th>\n",
       "      <th>content_length</th>\n",
       "      <th>blob_type</th>\n",
       "    </tr>\n",
       "  </thead>\n",
       "  <tbody>\n",
       "    <tr>\n",
       "      <th>0</th>\n",
       "      <td> HdiSamples/SensorSampleData/building/building.csv</td>\n",
       "      <td> Thu, 13 Nov 2014 23:43:59 GMT</td>\n",
       "      <td> application/octet-stream</td>\n",
       "      <td>    544</td>\n",
       "      <td> BlockBlob</td>\n",
       "    </tr>\n",
       "    <tr>\n",
       "      <th>1</th>\n",
       "      <td>         HdiSamples/SensorSampleData/hvac/HVAC.csv</td>\n",
       "      <td> Thu, 13 Nov 2014 23:43:59 GMT</td>\n",
       "      <td> application/octet-stream</td>\n",
       "      <td> 240591</td>\n",
       "      <td> BlockBlob</td>\n",
       "    </tr>\n",
       "    <tr>\n",
       "      <th>2</th>\n",
       "      <td> HdiSamples/StorageAnalytics/hive-serde-microso...</td>\n",
       "      <td> Thu, 13 Nov 2014 23:43:59 GMT</td>\n",
       "      <td> application/octet-stream</td>\n",
       "      <td>   9562</td>\n",
       "      <td> BlockBlob</td>\n",
       "    </tr>\n",
       "    <tr>\n",
       "      <th>3</th>\n",
       "      <td> HdiSamples/StorageAnalytics/hive-serde-microso...</td>\n",
       "      <td> Thu, 13 Nov 2014 23:43:59 GMT</td>\n",
       "      <td> application/octet-stream</td>\n",
       "      <td>  10290</td>\n",
       "      <td> BlockBlob</td>\n",
       "    </tr>\n",
       "    <tr>\n",
       "      <th>4</th>\n",
       "      <td> HdiSamples/StorageAnalytics/hive-serde-microso...</td>\n",
       "      <td> Thu, 13 Nov 2014 23:43:59 GMT</td>\n",
       "      <td> application/octet-stream</td>\n",
       "      <td>  10321</td>\n",
       "      <td> BlockBlob</td>\n",
       "    </tr>\n",
       "  </tbody>\n",
       "</table>\n",
       "</div>"
      ],
      "text/plain": [
       "                                                name  \\\n",
       "0  HdiSamples/SensorSampleData/building/building.csv   \n",
       "1          HdiSamples/SensorSampleData/hvac/HVAC.csv   \n",
       "2  HdiSamples/StorageAnalytics/hive-serde-microso...   \n",
       "3  HdiSamples/StorageAnalytics/hive-serde-microso...   \n",
       "4  HdiSamples/StorageAnalytics/hive-serde-microso...   \n",
       "\n",
       "                   last_modified              content_type  content_length  \\\n",
       "0  Thu, 13 Nov 2014 23:43:59 GMT  application/octet-stream             544   \n",
       "1  Thu, 13 Nov 2014 23:43:59 GMT  application/octet-stream          240591   \n",
       "2  Thu, 13 Nov 2014 23:43:59 GMT  application/octet-stream            9562   \n",
       "3  Thu, 13 Nov 2014 23:43:59 GMT  application/octet-stream           10290   \n",
       "4  Thu, 13 Nov 2014 23:43:59 GMT  application/octet-stream           10321   \n",
       "\n",
       "   blob_type  \n",
       "0  BlockBlob  \n",
       "1  BlockBlob  \n",
       "2  BlockBlob  \n",
       "3  BlockBlob  \n",
       "4  BlockBlob  "
      ]
     },
     "execution_count": 4,
     "metadata": {},
     "output_type": "execute_result"
    }
   ],
   "source": [
    "df = %blob_ls clusterensaeazure1\n",
    "df.head()"
   ]
  },
  {
   "cell_type": "markdown",
   "metadata": {},
   "source": [
    "We upload the file we created in the first cell:"
   ]
  },
  {
   "cell_type": "code",
   "execution_count": 4,
   "metadata": {
    "collapsed": false
   },
   "outputs": [
    {
     "data": {
      "text/plain": [
       "'testpyensae/randomxy.txt'"
      ]
     },
     "execution_count": 4,
     "metadata": {},
     "output_type": "execute_result"
    }
   ],
   "source": [
    "%blob_up randomxy.txt clusterensaeazure1/testpyensae/randomxy.txt"
   ]
  },
  {
   "cell_type": "markdown",
   "metadata": {},
   "source": [
    "We check the file is over there:"
   ]
  },
  {
   "cell_type": "code",
   "execution_count": 5,
   "metadata": {
    "collapsed": false
   },
   "outputs": [
    {
     "data": {
      "text/html": [
       "<div style=\"max-height:1000px;max-width:1500px;overflow:auto;\">\n",
       "<table border=\"1\" class=\"dataframe\">\n",
       "  <thead>\n",
       "    <tr style=\"text-align: right;\">\n",
       "      <th></th>\n",
       "      <th>name</th>\n",
       "      <th>last_modified</th>\n",
       "      <th>content_type</th>\n",
       "      <th>content_length</th>\n",
       "      <th>blob_type</th>\n",
       "    </tr>\n",
       "  </thead>\n",
       "  <tbody>\n",
       "    <tr>\n",
       "      <th>0</th>\n",
       "      <td> testpyensae/randomxy.txt</td>\n",
       "      <td> Sat, 15 Nov 2014 12:17:21 GMT</td>\n",
       "      <td> application/octet-stream</td>\n",
       "      <td> 43486</td>\n",
       "      <td> BlockBlob</td>\n",
       "    </tr>\n",
       "  </tbody>\n",
       "</table>\n",
       "</div>"
      ],
      "text/plain": [
       "                       name                  last_modified  \\\n",
       "0  testpyensae/randomxy.txt  Sat, 15 Nov 2014 12:17:21 GMT   \n",
       "\n",
       "               content_type  content_length  blob_type  \n",
       "0  application/octet-stream           43486  BlockBlob  "
      ]
     },
     "execution_count": 5,
     "metadata": {},
     "output_type": "execute_result"
    }
   ],
   "source": [
    "%blob_ls clusterensaeazure1/testpyensae"
   ]
  },
  {
   "cell_type": "markdown",
   "metadata": {},
   "source": [
    "We try an extended version:"
   ]
  },
  {
   "cell_type": "code",
   "execution_count": 6,
   "metadata": {
    "collapsed": false
   },
   "outputs": [
    {
     "data": {
      "text/html": [
       "<div style=\"max-height:1000px;max-width:1500px;overflow:auto;\">\n",
       "<table border=\"1\" class=\"dataframe\">\n",
       "  <thead>\n",
       "    <tr style=\"text-align: right;\">\n",
       "      <th></th>\n",
       "      <th>blob_type</th>\n",
       "      <th>content_encoding</th>\n",
       "      <th>content_language</th>\n",
       "      <th>content_length</th>\n",
       "      <th>content_md5</th>\n",
       "      <th>content_type</th>\n",
       "      <th>copy_completion_time</th>\n",
       "      <th>copy_id</th>\n",
       "      <th>copy_progress</th>\n",
       "      <th>copy_source</th>\n",
       "      <th>copy_status</th>\n",
       "      <th>copy_status_description</th>\n",
       "      <th>etag</th>\n",
       "      <th>last_modified</th>\n",
       "      <th>lease_duration</th>\n",
       "      <th>lease_state</th>\n",
       "      <th>lease_status</th>\n",
       "      <th>name</th>\n",
       "      <th>url</th>\n",
       "      <th>xms_blob_sequence_number</th>\n",
       "    </tr>\n",
       "  </thead>\n",
       "  <tbody>\n",
       "    <tr>\n",
       "      <th>0</th>\n",
       "      <td> BlockBlob</td>\n",
       "      <td> </td>\n",
       "      <td> </td>\n",
       "      <td> 43486</td>\n",
       "      <td> </td>\n",
       "      <td> application/octet-stream</td>\n",
       "      <td> </td>\n",
       "      <td> </td>\n",
       "      <td> </td>\n",
       "      <td> </td>\n",
       "      <td> </td>\n",
       "      <td> </td>\n",
       "      <td> 0x8D1CEE53D92BF19</td>\n",
       "      <td> Sat, 15 Nov 2014 12:17:21 GMT</td>\n",
       "      <td> </td>\n",
       "      <td> available</td>\n",
       "      <td> unlocked</td>\n",
       "      <td> testpyensae/randomxy.txt</td>\n",
       "      <td> https://hdblobstorage.blob.core.windows.net/cl...</td>\n",
       "      <td> 0</td>\n",
       "    </tr>\n",
       "  </tbody>\n",
       "</table>\n",
       "</div>"
      ],
      "text/plain": [
       "   blob_type content_encoding content_language  content_length content_md5  \\\n",
       "0  BlockBlob                                             43486               \n",
       "\n",
       "               content_type copy_completion_time copy_id copy_progress  \\\n",
       "0  application/octet-stream                                              \n",
       "\n",
       "  copy_source copy_status copy_status_description               etag  \\\n",
       "0                                                  0x8D1CEE53D92BF19   \n",
       "\n",
       "                   last_modified lease_duration lease_state lease_status  \\\n",
       "0  Sat, 15 Nov 2014 12:17:21 GMT                  available     unlocked   \n",
       "\n",
       "                       name  \\\n",
       "0  testpyensae/randomxy.txt   \n",
       "\n",
       "                                                 url  xms_blob_sequence_number  \n",
       "0  https://hdblobstorage.blob.core.windows.net/cl...                         0  "
      ]
     },
     "execution_count": 6,
     "metadata": {},
     "output_type": "execute_result"
    }
   ],
   "source": [
    "%blob_lsl clusterensaeazure1/testpyensae"
   ]
  },
  {
   "cell_type": "markdown",
   "metadata": {},
   "source": [
    "If you need information not accessible through a magic command, you can use the variable ``bs`` (type [azure.storage.blobservice.BlobService](http://www.xavierdupre.fr/app/azure-sdk-for-python/helpsphinx/storage/blobservice.html#module-azure.storage.blobservice)):"
   ]
  },
  {
   "cell_type": "code",
   "execution_count": 12,
   "metadata": {
    "collapsed": false
   },
   "outputs": [
    {
     "name": "stdout",
     "output_type": "stream",
     "text": [
      "size= 43486 id= 00000000\n"
     ]
    }
   ],
   "source": [
    "l=bs.get_block_list(\"clusterensaeazure1\", \"testpyensae/randomxy.txt\")\n",
    "for _ in l.committed_blocks:\n",
    "    print(\"size=\",_.size, \"id=\",_.id)"
   ]
  },
  {
   "cell_type": "markdown",
   "metadata": {},
   "source": [
    "We download this again to the local computer:"
   ]
  },
  {
   "cell_type": "code",
   "execution_count": 13,
   "metadata": {
    "collapsed": false
   },
   "outputs": [
    {
     "data": {
      "text/plain": [
       "'randomxx_copy.txt'"
      ]
     },
     "execution_count": 13,
     "metadata": {},
     "output_type": "execute_result"
    }
   ],
   "source": [
    "%blob_down clusterensaeazure1/testpyensae/randomxy.txt randomxx_copy.txt"
   ]
  },
  {
   "cell_type": "code",
   "execution_count": 4,
   "metadata": {
    "collapsed": false
   },
   "outputs": [
    {
     "data": {
      "text/html": [
       "<div style=\"max-height:1000px;max-width:1500px;overflow:auto;\">\n",
       "<table border=\"1\" class=\"dataframe\">\n",
       "  <thead>\n",
       "    <tr style=\"text-align: right;\">\n",
       "      <th></th>\n",
       "      <th>directory</th>\n",
       "      <th>last_modified</th>\n",
       "      <th>name</th>\n",
       "      <th>size</th>\n",
       "    </tr>\n",
       "  </thead>\n",
       "  <tbody>\n",
       "    <tr>\n",
       "      <th>0</th>\n",
       "      <td> False</td>\n",
       "      <td>2014-11-15 14:16:32.416793</td>\n",
       "      <td> .\\randomxx_copy.txt</td>\n",
       "      <td> 42.47 Kb</td>\n",
       "    </tr>\n",
       "    <tr>\n",
       "      <th>1</th>\n",
       "      <td> False</td>\n",
       "      <td>2014-11-15 13:03:51.826002</td>\n",
       "      <td>      .\\randomxy.txt</td>\n",
       "      <td> 42.47 Kb</td>\n",
       "    </tr>\n",
       "  </tbody>\n",
       "</table>\n",
       "</div>"
      ],
      "text/plain": [
       "  directory              last_modified                 name      size\n",
       "0     False 2014-11-15 14:16:32.416793  .\\randomxx_copy.txt  42.47 Kb\n",
       "1     False 2014-11-15 13:03:51.826002       .\\randomxy.txt  42.47 Kb"
      ]
     },
     "execution_count": 4,
     "metadata": {},
     "output_type": "execute_result"
    }
   ],
   "source": [
    "%lsr r.*[.]txt"
   ]
  },
  {
   "cell_type": "markdown",
   "metadata": {},
   "source": [
    "PIG scripts usually produce more than one output and it is convenient to merge them while downloading them. To test that, we upload a second time our file with a different names:"
   ]
  },
  {
   "cell_type": "code",
   "execution_count": 5,
   "metadata": {
    "collapsed": false
   },
   "outputs": [
    {
     "data": {
      "text/plain": [
       "'testpyensae/randomxy2.txt'"
      ]
     },
     "execution_count": 5,
     "metadata": {},
     "output_type": "execute_result"
    }
   ],
   "source": [
    "%blob_up randomxy.txt clusterensaeazure1/testpyensae/randomxy2.txt"
   ]
  },
  {
   "cell_type": "code",
   "execution_count": 9,
   "metadata": {
    "collapsed": false
   },
   "outputs": [
    {
     "data": {
      "text/html": [
       "<div style=\"max-height:1000px;max-width:1500px;overflow:auto;\">\n",
       "<table border=\"1\" class=\"dataframe\">\n",
       "  <thead>\n",
       "    <tr style=\"text-align: right;\">\n",
       "      <th></th>\n",
       "      <th>name</th>\n",
       "      <th>last_modified</th>\n",
       "      <th>content_type</th>\n",
       "      <th>content_length</th>\n",
       "      <th>blob_type</th>\n",
       "    </tr>\n",
       "  </thead>\n",
       "  <tbody>\n",
       "    <tr>\n",
       "      <th>0</th>\n",
       "      <td>  testpyensae/randomxy.txt</td>\n",
       "      <td> Sat, 15 Nov 2014 13:41:55 GMT</td>\n",
       "      <td> application/octet-stream</td>\n",
       "      <td> 43486</td>\n",
       "      <td> BlockBlob</td>\n",
       "    </tr>\n",
       "    <tr>\n",
       "      <th>1</th>\n",
       "      <td> testpyensae/randomxy2.txt</td>\n",
       "      <td> Sat, 15 Nov 2014 13:43:32 GMT</td>\n",
       "      <td> application/octet-stream</td>\n",
       "      <td> 43486</td>\n",
       "      <td> BlockBlob</td>\n",
       "    </tr>\n",
       "  </tbody>\n",
       "</table>\n",
       "</div>"
      ],
      "text/plain": [
       "                        name                  last_modified  \\\n",
       "0   testpyensae/randomxy.txt  Sat, 15 Nov 2014 13:41:55 GMT   \n",
       "1  testpyensae/randomxy2.txt  Sat, 15 Nov 2014 13:43:32 GMT   \n",
       "\n",
       "               content_type  content_length  blob_type  \n",
       "0  application/octet-stream           43486  BlockBlob  \n",
       "1  application/octet-stream           43486  BlockBlob  "
      ]
     },
     "execution_count": 9,
     "metadata": {},
     "output_type": "execute_result"
    }
   ],
   "source": [
    "%blob_ls clusterensaeazure1/testpyensae"
   ]
  },
  {
   "cell_type": "markdown",
   "metadata": {},
   "source": [
    "And we merge them:"
   ]
  },
  {
   "cell_type": "code",
   "execution_count": 5,
   "metadata": {
    "collapsed": false
   },
   "outputs": [
    {
     "data": {
      "text/plain": [
       "'randomall.txt'"
      ]
     },
     "execution_count": 5,
     "metadata": {},
     "output_type": "execute_result"
    }
   ],
   "source": [
    "%blob_downmerge clusterensaeazure1/testpyensae randomall.txt"
   ]
  },
  {
   "cell_type": "markdown",
   "metadata": {},
   "source": [
    "We check the size of file ``randomall.txt`` is twice bigger:"
   ]
  },
  {
   "cell_type": "code",
   "execution_count": 3,
   "metadata": {
    "collapsed": false
   },
   "outputs": [
    {
     "data": {
      "text/html": [
       "<div style=\"max-height:1000px;max-width:1500px;overflow:auto;\">\n",
       "<table border=\"1\" class=\"dataframe\">\n",
       "  <thead>\n",
       "    <tr style=\"text-align: right;\">\n",
       "      <th></th>\n",
       "      <th>directory</th>\n",
       "      <th>last_modified</th>\n",
       "      <th>name</th>\n",
       "      <th>size</th>\n",
       "    </tr>\n",
       "  </thead>\n",
       "  <tbody>\n",
       "    <tr>\n",
       "      <th>0</th>\n",
       "      <td> False</td>\n",
       "      <td>2014-11-15 14:48:51.154361</td>\n",
       "      <td>     .\\randomall.txt</td>\n",
       "      <td> 84.93 Kb</td>\n",
       "    </tr>\n",
       "    <tr>\n",
       "      <th>1</th>\n",
       "      <td> False</td>\n",
       "      <td>2014-11-15 14:16:32.416793</td>\n",
       "      <td> .\\randomxx_copy.txt</td>\n",
       "      <td> 42.47 Kb</td>\n",
       "    </tr>\n",
       "    <tr>\n",
       "      <th>2</th>\n",
       "      <td> False</td>\n",
       "      <td>2014-11-15 13:03:51.826002</td>\n",
       "      <td>      .\\randomxy.txt</td>\n",
       "      <td> 42.47 Kb</td>\n",
       "    </tr>\n",
       "  </tbody>\n",
       "</table>\n",
       "</div>"
      ],
      "text/plain": [
       "  directory              last_modified                 name      size\n",
       "0     False 2014-11-15 14:48:51.154361      .\\randomall.txt  84.93 Kb\n",
       "1     False 2014-11-15 14:16:32.416793  .\\randomxx_copy.txt  42.47 Kb\n",
       "2     False 2014-11-15 13:03:51.826002       .\\randomxy.txt  42.47 Kb"
      ]
     },
     "execution_count": 3,
     "metadata": {},
     "output_type": "execute_result"
    }
   ],
   "source": [
    "%lsr r.*[.]txt"
   ]
  },
  {
   "cell_type": "markdown",
   "metadata": {},
   "source": [
    "We finally remove the files from the blob storage:"
   ]
  },
  {
   "cell_type": "code",
   "execution_count": 7,
   "metadata": {
    "collapsed": false
   },
   "outputs": [
    {
     "data": {
      "text/plain": [
       "True"
      ]
     },
     "execution_count": 7,
     "metadata": {},
     "output_type": "execute_result"
    }
   ],
   "source": [
    "%blob_delete clusterensaeazure1/testpyensae/randomxy.txt\n",
    "%blob_delete clusterensaeazure1/testpyensae/randomxy2.txt"
   ]
  },
  {
   "cell_type": "markdown",
   "metadata": {},
   "source": [
    "We check it disappeared:"
   ]
  },
  {
   "cell_type": "code",
   "execution_count": 8,
   "metadata": {
    "collapsed": false
   },
   "outputs": [
    {
     "data": {
      "text/html": [
       "<div style=\"max-height:1000px;max-width:1500px;overflow:auto;\">\n",
       "<table border=\"1\" class=\"dataframe\">\n",
       "  <thead>\n",
       "    <tr style=\"text-align: right;\">\n",
       "      <th></th>\n",
       "    </tr>\n",
       "  </thead>\n",
       "  <tbody>\n",
       "  </tbody>\n",
       "</table>\n",
       "</div>"
      ],
      "text/plain": [
       "Empty DataFrame\n",
       "Columns: []\n",
       "Index: []"
      ]
     },
     "execution_count": 8,
     "metadata": {},
     "output_type": "execute_result"
    }
   ],
   "source": [
    "%blob_ls clusterensaeazure1/testpyensae/"
   ]
  },
  {
   "cell_type": "markdown",
   "metadata": {},
   "source": [
    "And we close the connection:"
   ]
  },
  {
   "cell_type": "code",
   "execution_count": 9,
   "metadata": {
    "collapsed": false
   },
   "outputs": [
    {
     "data": {
      "text/plain": [
       "True"
      ]
     },
     "execution_count": 9,
     "metadata": {},
     "output_type": "execute_result"
    }
   ],
   "source": [
    "%blob_close"
   ]
  },
  {
   "cell_type": "markdown",
   "metadata": {},
   "source": [
    "**END**"
   ]
  },
  {
   "cell_type": "code",
   "execution_count": null,
   "metadata": {
    "collapsed": false
   },
   "outputs": [],
   "source": []
  }
 ],
 "metadata": {},
 "nbformat": 4,
 "nbformat_minor": 0
}