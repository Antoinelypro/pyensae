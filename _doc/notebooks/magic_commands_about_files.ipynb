{
 "metadata": {
  "name": "",
  "signature": "sha256:fa1a21a8c9c6736c8503c252a13968edc0bd58d7a21c2a61fe9427bec137d703"
 },
 "nbformat": 3,
 "nbformat_minor": 0,
 "worksheets": [
  {
   "cells": [
    {
     "cell_type": "heading",
     "level": 1,
     "metadata": {},
     "source": [
      "Magic commands about files"
     ]
    },
    {
     "cell_type": "code",
     "collapsed": false,
     "input": [
      "import pyensae"
     ],
     "language": "python",
     "metadata": {},
     "outputs": [],
     "prompt_number": 1
    },
    {
     "cell_type": "code",
     "collapsed": false,
     "input": [
      "%lsr .*[.]ipynb"
     ],
     "language": "python",
     "metadata": {},
     "outputs": [
      {
       "html": [
        "<div style=\"max-height:1000px;max-width:1500px;overflow:auto;\">\n",
        "<table border=\"1\" class=\"dataframe\">\n",
        "  <thead>\n",
        "    <tr style=\"text-align: right;\">\n",
        "      <th></th>\n",
        "      <th>directory</th>\n",
        "      <th>last_modified</th>\n",
        "      <th>name</th>\n",
        "      <th>size</th>\n",
        "    </tr>\n",
        "  </thead>\n",
        "  <tbody>\n",
        "    <tr>\n",
        "      <th>0</th>\n",
        "      <td> False</td>\n",
        "      <td>2014-11-15 14:49:42.972036</td>\n",
        "      <td>                  .\\azure_blob_storage.ipynb</td>\n",
        "      <td>  24.09 Kb</td>\n",
        "    </tr>\n",
        "    <tr>\n",
        "      <th>1</th>\n",
        "      <td> False</td>\n",
        "      <td>2014-11-15 12:52:13.060818</td>\n",
        "      <td> .\\example_of_ssh_client_communication.ipynb</td>\n",
        "      <td> 154.50 Kb</td>\n",
        "    </tr>\n",
        "    <tr>\n",
        "      <th>2</th>\n",
        "      <td> False</td>\n",
        "      <td>2014-11-15 17:25:55.409855</td>\n",
        "      <td>          .\\magic_commands_about_files.ipynb</td>\n",
        "      <td>   8.58 Kb</td>\n",
        "    </tr>\n",
        "    <tr>\n",
        "      <th>3</th>\n",
        "      <td> False</td>\n",
        "      <td>2014-07-19 01:03:51.908848</td>\n",
        "      <td>                    .\\pyensae_flat2db3.ipynb</td>\n",
        "      <td>  65.17 Kb</td>\n",
        "    </tr>\n",
        "    <tr>\n",
        "      <th>4</th>\n",
        "      <td> False</td>\n",
        "      <td>2014-11-10 00:16:12.483265</td>\n",
        "      <td>                   .\\pyensae_sql_magic.ipynb</td>\n",
        "      <td>  49.20 Kb</td>\n",
        "    </tr>\n",
        "    <tr>\n",
        "      <th>5</th>\n",
        "      <td> False</td>\n",
        "      <td>2014-04-26 11:38:17.704000</td>\n",
        "      <td>                 .\\pyensae_StockPrices.ipynb</td>\n",
        "      <td> 410.41 Kb</td>\n",
        "    </tr>\n",
        "    <tr>\n",
        "      <th>6</th>\n",
        "      <td> False</td>\n",
        "      <td>2014-07-30 10:27:09.144914</td>\n",
        "      <td>                  .\\pyensae_text2table.ipynb</td>\n",
        "      <td>  23.45 Kb</td>\n",
        "    </tr>\n",
        "    <tr>\n",
        "      <th>7</th>\n",
        "      <td> False</td>\n",
        "      <td>2014-05-24 15:22:18.501329</td>\n",
        "      <td>                       .\\pyensae_velib.ipynb</td>\n",
        "      <td> 424.46 Kb</td>\n",
        "    </tr>\n",
        "    <tr>\n",
        "      <th>8</th>\n",
        "      <td> False</td>\n",
        "      <td>2014-11-15 12:38:56.214652</td>\n",
        "      <td>                   .\\python_hadoop_pig.ipynb</td>\n",
        "      <td>  15.28 Kb</td>\n",
        "    </tr>\n",
        "  </tbody>\n",
        "</table>\n",
        "</div>"
       ],
       "metadata": {},
       "output_type": "pyout",
       "prompt_number": 3,
       "text": [
        "  directory              last_modified  \\\n",
        "0     False 2014-11-15 14:49:42.972036   \n",
        "1     False 2014-11-15 12:52:13.060818   \n",
        "2     False 2014-11-15 17:25:55.409855   \n",
        "3     False 2014-07-19 01:03:51.908848   \n",
        "4     False 2014-11-10 00:16:12.483265   \n",
        "5     False 2014-04-26 11:38:17.704000   \n",
        "6     False 2014-07-30 10:27:09.144914   \n",
        "7     False 2014-05-24 15:22:18.501329   \n",
        "8     False 2014-11-15 12:38:56.214652   \n",
        "\n",
        "                                          name       size  \n",
        "0                   .\\azure_blob_storage.ipynb   24.09 Kb  \n",
        "1  .\\example_of_ssh_client_communication.ipynb  154.50 Kb  \n",
        "2           .\\magic_commands_about_files.ipynb    8.58 Kb  \n",
        "3                     .\\pyensae_flat2db3.ipynb   65.17 Kb  \n",
        "4                    .\\pyensae_sql_magic.ipynb   49.20 Kb  \n",
        "5                  .\\pyensae_StockPrices.ipynb  410.41 Kb  \n",
        "6                   .\\pyensae_text2table.ipynb   23.45 Kb  \n",
        "7                        .\\pyensae_velib.ipynb  424.46 Kb  \n",
        "8                    .\\python_hadoop_pig.ipynb   15.28 Kb  "
       ]
      }
     ],
     "prompt_number": 3
    },
    {
     "cell_type": "code",
     "collapsed": false,
     "input": [],
     "language": "python",
     "metadata": {},
     "outputs": []
    }
   ],
   "metadata": {}
  }
 ]
}