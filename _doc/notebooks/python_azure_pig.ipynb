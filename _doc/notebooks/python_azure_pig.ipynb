{
 "metadata": {
  "name": "",
  "signature": "sha256:d0deabf3e2144a8323870186c75fb7d042840af4e403c4efc3a598ea8d4ff8c0"
 },
 "nbformat": 3,
 "nbformat_minor": 0,
 "worksheets": [
  {
   "cells": [
    {
     "cell_type": "heading",
     "level": 1,
     "metadata": {},
     "source": [
      "Python Azure Pig"
     ]
    },
    {
     "cell_type": "markdown",
     "metadata": {},
     "source": [
      "This notebook aims at showing how to submit a PIG job to remote hadoop cluster from [Azure](). It is inspired from these articles: [start a Pig + Jython job in HDInsight thru WebHCat](http://blogs.msdn.com/b/benjguin/archive/2014/03/21/start-a-pig-jython-job-in-hdinsight-thru-webhcat.aspx), [How to use HDInsight from Linux](http://blogs.msdn.com/b/benjguin/archive/2014/02/18/how-to-use-hdinsight-from-linux.aspx). First, we download data. We are going to upload that data to the remote cluster."
     ]
    },
    {
     "cell_type": "code",
     "collapsed": false,
     "input": [
      "import pyensae\n",
      "pyensae.download_data(\"ConfLongDemo_JSI.txt\", website=\"https://archive.ics.uci.edu/ml/machine-learning-databases/00196/\")"
     ],
     "language": "python",
     "metadata": {},
     "outputs": [
      {
       "metadata": {},
       "output_type": "pyout",
       "prompt_number": 3,
       "text": [
        "'ConfLongDemo_JSI.txt'"
       ]
      }
     ],
     "prompt_number": 3
    },
    {
     "cell_type": "markdown",
     "metadata": {},
     "source": [
      "We open a SSH connection to the bridge which can communicate to the cluster."
     ]
    },
    {
     "cell_type": "code",
     "collapsed": false,
     "input": [
      "import pyquickhelper\n",
      "params={\"server\":\"\", \"username\":\"\", \"password\":\"\"}\n",
      "params = pyquickhelper.open_window_params(params=params,title=\"server + credentials\",help_string=\"renseigner\")\n",
      "password = params[\"password\"]\n",
      "server = params[\"server\"]\n",
      "username = params[\"username\"]"
     ],
     "language": "python",
     "metadata": {},
     "outputs": [],
     "prompt_number": 1
    }
   ],
   "metadata": {}
  }
 ]
}